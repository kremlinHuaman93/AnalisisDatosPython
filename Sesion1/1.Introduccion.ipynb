{
 "cells": [
  {
   "cell_type": "code",
   "execution_count": null,
   "metadata": {},
   "outputs": [],
   "source": [
    "#indentacion\n",
    "\n",
    "if condicional : \n",
    "    print('hola Mundo')\n",
    "    ..."
   ]
  },
  {
   "cell_type": "code",
   "execution_count": 2,
   "metadata": {},
   "outputs": [
    {
     "data": {
      "text/plain": [
       "'Comentarios Docstring'"
      ]
     },
     "execution_count": 2,
     "metadata": {},
     "output_type": "execute_result"
    }
   ],
   "source": [
    "# comentarios\n",
    "'''Comentarios Docstring'''"
   ]
  },
  {
   "cell_type": "code",
   "execution_count": 6,
   "metadata": {},
   "outputs": [
    {
     "name": "stdout",
     "output_type": "stream",
     "text": [
      "5.1\n"
     ]
    }
   ],
   "source": [
    "# variables\n",
    "\n",
    "var1 = ''\n",
    "var2 = 5.1\n",
    "var3 = \"Datapath\"\n",
    "\n",
    "print(var2)"
   ]
  },
  {
   "cell_type": "code",
   "execution_count": 7,
   "metadata": {},
   "outputs": [
    {
     "name": "stdout",
     "output_type": "stream",
     "text": [
      "<class 'str'>\n",
      "<class 'float'>\n",
      "<class 'str'>\n"
     ]
    }
   ],
   "source": [
    "print(type(var1))\n",
    "print(type(var2))\n",
    "print(type(var3))"
   ]
  },
  {
   "cell_type": "code",
   "execution_count": 8,
   "metadata": {},
   "outputs": [
    {
     "name": "stdout",
     "output_type": "stream",
     "text": [
      "Datapath\n",
      "Python\n",
      "Git\n"
     ]
    }
   ],
   "source": [
    "a, b, c = 'Datapath', 'Python', 'Git'\n",
    "\n",
    "print(a)\n",
    "print(b)\n",
    "print(c)"
   ]
  },
  {
   "cell_type": "code",
   "execution_count": 11,
   "metadata": {},
   "outputs": [
    {
     "name": "stdout",
     "output_type": "stream",
     "text": [
      "qwerty\n",
      "we\n"
     ]
    }
   ],
   "source": [
    "# tipos de datos en python\n",
    "\n",
    "# String\n",
    "\n",
    "var_string = 'qwerty'\n",
    "\n",
    "print(var_string)\n",
    "print(var_string[1:3])"
   ]
  },
  {
   "cell_type": "code",
   "execution_count": 14,
   "metadata": {},
   "outputs": [
    {
     "name": "stdout",
     "output_type": "stream",
     "text": [
      "10\n"
     ]
    }
   ],
   "source": [
    "# numericas\n",
    "\n",
    "var_int = 10\n",
    "var_float = 4.5\n",
    "var_complex = 3.14j\n",
    "\n",
    "print(var_int)"
   ]
  },
  {
   "cell_type": "code",
   "execution_count": 13,
   "metadata": {},
   "outputs": [],
   "source": [
    "# Listas\n",
    "# list = [a, b, c, d]\n",
    "\n",
    "list_1 = []\n",
    "\n",
    "list_2 = [2, 3, 4, 5]\n",
    "\n",
    "list_3 = [3, \"qwert\", 44.4]\n",
    "\n",
    "list_4 = [\"Datapath\", 4, [3, 5, 7], ['a', 4.5, 4.5j]]"
   ]
  },
  {
   "cell_type": "code",
   "execution_count": 17,
   "metadata": {},
   "outputs": [
    {
     "name": "stdout",
     "output_type": "stream",
     "text": [
      "4\n",
      "5\n"
     ]
    }
   ],
   "source": [
    "# lista = [1, 2, 3, 4, 5]\n",
    "# lista[0]\n",
    "\n",
    "print(list_4[1])\n",
    "print(list_4[2][1])"
   ]
  },
  {
   "cell_type": "code",
   "execution_count": 18,
   "metadata": {},
   "outputs": [
    {
     "name": "stdout",
     "output_type": "stream",
     "text": [
      "[3, 4]\n"
     ]
    }
   ],
   "source": [
    "lista = [1, 2, 3, 4, 5]\n",
    "\n",
    "print(lista[2:4])"
   ]
  },
  {
   "cell_type": "code",
   "execution_count": 19,
   "metadata": {},
   "outputs": [],
   "source": [
    "lista[4] = 7"
   ]
  },
  {
   "cell_type": "code",
   "execution_count": 20,
   "metadata": {},
   "outputs": [
    {
     "name": "stdout",
     "output_type": "stream",
     "text": [
      "[1, 2, 3, 4, 7]\n"
     ]
    }
   ],
   "source": [
    "print(lista)"
   ]
  },
  {
   "cell_type": "code",
   "execution_count": 22,
   "metadata": {},
   "outputs": [
    {
     "name": "stdout",
     "output_type": "stream",
     "text": [
      "[6, 7, 8, 3, 5]\n"
     ]
    }
   ],
   "source": [
    "list_a = [6, 7, 8]\n",
    "\n",
    "list_a.append(3)\n",
    "list_a.append(5)\n",
    "\n",
    "print(list_a)"
   ]
  },
  {
   "cell_type": "code",
   "execution_count": 23,
   "metadata": {},
   "outputs": [
    {
     "name": "stdout",
     "output_type": "stream",
     "text": [
      "[6, 7, 8, 3, 5, 1, 2, 4]\n"
     ]
    }
   ],
   "source": [
    "list_a.extend([1, 2, 4])\n",
    "print(list_a)"
   ]
  },
  {
   "cell_type": "code",
   "execution_count": 24,
   "metadata": {},
   "outputs": [
    {
     "name": "stdout",
     "output_type": "stream",
     "text": [
      "[6, 7, 8, 3, 5, 1, 2, 4, [9, 10, 11]]\n"
     ]
    }
   ],
   "source": [
    "list_a.append([9,10, 11])\n",
    "print(list_a)"
   ]
  },
  {
   "cell_type": "code",
   "execution_count": 25,
   "metadata": {},
   "outputs": [
    {
     "name": "stdout",
     "output_type": "stream",
     "text": [
      "6\n",
      "7\n",
      "8\n",
      "3\n",
      "5\n",
      "1\n",
      "2\n",
      "4\n",
      "[9, 10, 11]\n"
     ]
    }
   ],
   "source": [
    "for item in list_a:\n",
    "    print(item)"
   ]
  },
  {
   "cell_type": "code",
   "execution_count": 30,
   "metadata": {},
   "outputs": [
    {
     "name": "stdout",
     "output_type": "stream",
     "text": [
      "[1, 2, 3, 4, 5, 6]\n"
     ]
    }
   ],
   "source": [
    "list_a = [1, 2, 3]\n",
    "list_b = [4, 5, 6]\n",
    "\n",
    "list_final = list_a + list_b\n",
    "\n",
    "print(list_final)"
   ]
  },
  {
   "cell_type": "code",
   "execution_count": 32,
   "metadata": {},
   "outputs": [
    {
     "name": "stdout",
     "output_type": "stream",
     "text": [
      "5\n",
      "7\n",
      "9\n",
      "[5, 7, 9]\n"
     ]
    }
   ],
   "source": [
    "result = []\n",
    "\n",
    "for i in range(len(list_a)):\n",
    "    print(list_a[i] + list_b[i])\n",
    "    result.append(list_a[i] + list_b[i])\n",
    "\n",
    "print(result)"
   ]
  },
  {
   "cell_type": "code",
   "execution_count": 33,
   "metadata": {},
   "outputs": [
    {
     "name": "stdout",
     "output_type": "stream",
     "text": [
      "(1, 4.5, (1, 2, 3))\n"
     ]
    }
   ],
   "source": [
    "# Tuplas\n",
    "\n",
    "tupla = ()\n",
    "\n",
    "tupla_int = (1, 3, 4)\n",
    "\n",
    "tupla_mixta = (1, 4.j, \"Datapath\")\n",
    "\n",
    "tupla_anidada = (1, 4.5, (1, 2, 3))\n",
    "\n",
    "print(tupla_anidada)"
   ]
  },
  {
   "cell_type": "code",
   "execution_count": 36,
   "metadata": {},
   "outputs": [
    {
     "name": "stdout",
     "output_type": "stream",
     "text": [
      "<class 'tuple'>\n",
      "<class 'tuple'>\n"
     ]
    }
   ],
   "source": [
    "tupla_1 = (\"Datapath\",)\n",
    "print(type(tupla_1))\n",
    "\n",
    "tupla_2 = \"Datapath\", \n",
    "print(type(tupla_2))"
   ]
  },
  {
   "cell_type": "code",
   "execution_count": 38,
   "metadata": {},
   "outputs": [
    {
     "name": "stdout",
     "output_type": "stream",
     "text": [
      "4j\n",
      "2\n"
     ]
    }
   ],
   "source": [
    "print(tupla_mixta[1])\n",
    "print(tupla_anidada[2][1])"
   ]
  },
  {
   "cell_type": "code",
   "execution_count": 39,
   "metadata": {},
   "outputs": [
    {
     "ename": "TypeError",
     "evalue": "'tuple' object does not support item assignment",
     "output_type": "error",
     "traceback": [
      "\u001b[0;31m---------------------------------------------------------------------------\u001b[0m",
      "\u001b[0;31mTypeError\u001b[0m                                 Traceback (most recent call last)",
      "Cell \u001b[0;32mIn[39], line 1\u001b[0m\n\u001b[0;32m----> 1\u001b[0m \u001b[43mtupla_mixta\u001b[49m\u001b[43m[\u001b[49m\u001b[38;5;241;43m1\u001b[39;49m\u001b[43m]\u001b[49m \u001b[38;5;241m=\u001b[39m \u001b[38;5;241m4\u001b[39m\n",
      "\u001b[0;31mTypeError\u001b[0m: 'tuple' object does not support item assignment"
     ]
    }
   ],
   "source": [
    "tupla_mixta[1] = 4"
   ]
  },
  {
   "cell_type": "code",
   "execution_count": 40,
   "metadata": {},
   "outputs": [
    {
     "name": "stdout",
     "output_type": "stream",
     "text": [
      "{'nombre': 'Juan', 'apellido': 'Perez'}\n"
     ]
    }
   ],
   "source": [
    "# Diccionarios\n",
    "# diccionario_1 = {}\n",
    "\n",
    "dict_1 = {}\n",
    "dict_2 = {\n",
    "            1: 'Datapath',\n",
    "            2: 'Python'\n",
    "        }\n",
    "\n",
    "dict_3 = {\n",
    "            'nombre': 'Juan',\n",
    "            'apellido': 'Perez'\n",
    "        }\n",
    "\n",
    "print(dict_3)"
   ]
  },
  {
   "cell_type": "code",
   "execution_count": 42,
   "metadata": {},
   "outputs": [
    {
     "name": "stdout",
     "output_type": "stream",
     "text": [
      "Juan\n",
      "Perez\n"
     ]
    }
   ],
   "source": [
    "print(dict_3[\"nombre\"])\n",
    "print(dict_3[\"apellido\"])"
   ]
  },
  {
   "cell_type": "code",
   "execution_count": 43,
   "metadata": {},
   "outputs": [
    {
     "name": "stdout",
     "output_type": "stream",
     "text": [
      "Juan\n"
     ]
    }
   ],
   "source": [
    "print(dict_3.get('nombre'))"
   ]
  },
  {
   "cell_type": "code",
   "execution_count": 44,
   "metadata": {},
   "outputs": [
    {
     "ename": "KeyError",
     "evalue": "'edad'",
     "output_type": "error",
     "traceback": [
      "\u001b[0;31m---------------------------------------------------------------------------\u001b[0m",
      "\u001b[0;31mKeyError\u001b[0m                                  Traceback (most recent call last)",
      "Cell \u001b[0;32mIn[44], line 1\u001b[0m\n\u001b[0;32m----> 1\u001b[0m \u001b[38;5;28mprint\u001b[39m(\u001b[43mdict_3\u001b[49m\u001b[43m[\u001b[49m\u001b[38;5;124;43m'\u001b[39;49m\u001b[38;5;124;43medad\u001b[39;49m\u001b[38;5;124;43m'\u001b[39;49m\u001b[43m]\u001b[49m)\n",
      "\u001b[0;31mKeyError\u001b[0m: 'edad'"
     ]
    }
   ],
   "source": [
    "print(dict_3['edad'])"
   ]
  },
  {
   "cell_type": "code",
   "execution_count": 45,
   "metadata": {},
   "outputs": [
    {
     "name": "stdout",
     "output_type": "stream",
     "text": [
      "None\n"
     ]
    }
   ],
   "source": [
    "print(dict_3.get('edad'))"
   ]
  },
  {
   "cell_type": "code",
   "execution_count": 46,
   "metadata": {},
   "outputs": [
    {
     "name": "stdout",
     "output_type": "stream",
     "text": [
      "{'nombre': 'Juan', 'apellido': 'Perez', 'edad': 25}\n"
     ]
    }
   ],
   "source": [
    "dict_3['edad'] = 25\n",
    "print(dict_3)"
   ]
  },
  {
   "cell_type": "code",
   "execution_count": 47,
   "metadata": {},
   "outputs": [
    {
     "name": "stdout",
     "output_type": "stream",
     "text": [
      "{'nombre': 'Juan', 'apellido': 'Perez', 'edad': 30}\n"
     ]
    }
   ],
   "source": [
    "dict_3['edad'] = 30\n",
    "print(dict_3)"
   ]
  },
  {
   "cell_type": "code",
   "execution_count": 48,
   "metadata": {},
   "outputs": [
    {
     "name": "stdout",
     "output_type": "stream",
     "text": [
      "nombre -> Juan\n",
      "apellido -> Perez\n",
      "edad -> 30\n"
     ]
    }
   ],
   "source": [
    "for key in dict_3:\n",
    "    print(key, '->', dict_3[key])"
   ]
  },
  {
   "cell_type": "code",
   "execution_count": 54,
   "metadata": {},
   "outputs": [
    {
     "name": "stdout",
     "output_type": "stream",
     "text": [
      " x es cero\n"
     ]
    }
   ],
   "source": [
    "# control de flujo\n",
    "# Condicionales if - elif - else\n",
    "\n",
    "x = 0\n",
    "\n",
    "if x > 0 :\n",
    "    print(\" x es positivo\")\n",
    "elif x == 0 :\n",
    "    print(\" x es cero\")\n",
    "else:\n",
    "    print(\"x es negativo\")\n"
   ]
  },
  {
   "cell_type": "code",
   "execution_count": 55,
   "metadata": {},
   "outputs": [
    {
     "name": "stdout",
     "output_type": "stream",
     "text": [
      "x es cero\n"
     ]
    }
   ],
   "source": [
    "if x >= 0 :\n",
    "    if x ==0:\n",
    "        print(\"x es cero\")\n",
    "    else:\n",
    "        print(\" x es positivo\")\n",
    "else:\n",
    "    print(\"x es negativo\")\n"
   ]
  },
  {
   "cell_type": "code",
   "execution_count": 56,
   "metadata": {},
   "outputs": [
    {
     "name": "stdout",
     "output_type": "stream",
     "text": [
      "1\n",
      "3\n",
      "5\n",
      "7\n",
      "8\n"
     ]
    }
   ],
   "source": [
    "# for\n",
    "\n",
    "for item in [1, 3, 5, 7, 8]:\n",
    "    print(item)"
   ]
  },
  {
   "cell_type": "code",
   "execution_count": 57,
   "metadata": {},
   "outputs": [
    {
     "name": "stdout",
     "output_type": "stream",
     "text": [
      "0\n",
      "1\n",
      "2\n",
      "3\n",
      "4\n"
     ]
    }
   ],
   "source": [
    "for item in range(5):\n",
    "    print(item)"
   ]
  },
  {
   "cell_type": "code",
   "execution_count": 59,
   "metadata": {},
   "outputs": [
    {
     "name": "stdout",
     "output_type": "stream",
     "text": [
      "Contador 0\n",
      "Contador 1\n",
      "Contador 2\n",
      "Contador 3\n",
      "Contador 4\n"
     ]
    }
   ],
   "source": [
    "c = 0\n",
    "\n",
    "while c < 5:\n",
    "    print(\"Contador\", c)\n",
    "    c = c + 1"
   ]
  },
  {
   "cell_type": "code",
   "execution_count": 60,
   "metadata": {},
   "outputs": [
    {
     "name": "stdout",
     "output_type": "stream",
     "text": [
      "0\n",
      "1\n",
      "2\n",
      "3\n",
      "4\n"
     ]
    }
   ],
   "source": [
    "# break\n",
    "\n",
    "for i in range(10):\n",
    "    if i == 5:\n",
    "        break\n",
    "    print(i)"
   ]
  },
  {
   "cell_type": "code",
   "execution_count": 61,
   "metadata": {},
   "outputs": [
    {
     "name": "stdout",
     "output_type": "stream",
     "text": [
      "0\n",
      "1\n",
      "2\n",
      "3\n",
      "4\n",
      "6\n",
      "7\n",
      "8\n",
      "9\n"
     ]
    }
   ],
   "source": [
    "for i in range(10):\n",
    "    if i == 5:\n",
    "        continue\n",
    "    print(i)"
   ]
  },
  {
   "cell_type": "code",
   "execution_count": 62,
   "metadata": {},
   "outputs": [],
   "source": [
    "# pass\n",
    "\n",
    "def clean_data():\n",
    "    pass\n",
    "\n",
    "if True:\n",
    "    pass\n"
   ]
  },
  {
   "cell_type": "code",
   "execution_count": 65,
   "metadata": {},
   "outputs": [
    {
     "name": "stdout",
     "output_type": "stream",
     "text": [
      "Hola\n"
     ]
    }
   ],
   "source": [
    "# funciones \n",
    "\n",
    "def funcion():\n",
    "    return \"Hola\"\n",
    "\n",
    "var_1 = funcion()\n",
    "print(var_1)"
   ]
  },
  {
   "cell_type": "code",
   "execution_count": 66,
   "metadata": {},
   "outputs": [
    {
     "name": "stdout",
     "output_type": "stream",
     "text": [
      "8\n"
     ]
    }
   ],
   "source": [
    "def funcion(x):\n",
    "    return 2*x\n",
    "\n",
    "print(funcion(4))"
   ]
  },
  {
   "cell_type": "code",
   "execution_count": 67,
   "metadata": {},
   "outputs": [
    {
     "ename": "SyntaxError",
     "evalue": "incomplete input (491266235.py, line 1)",
     "output_type": "error",
     "traceback": [
      "\u001b[0;36m  Cell \u001b[0;32mIn[67], line 1\u001b[0;36m\u001b[0m\n\u001b[0;31m    def read_table(table_name):\u001b[0m\n\u001b[0m                               ^\u001b[0m\n\u001b[0;31mSyntaxError\u001b[0m\u001b[0;31m:\u001b[0m incomplete input\n"
     ]
    }
   ],
   "source": [
    "def read_table(table_name):\n",
    "    query = f\"SELECT * FROM {tabla_name}\"\n",
    "    return execute_query(query)"
   ]
  },
  {
   "cell_type": "code",
   "execution_count": 68,
   "metadata": {},
   "outputs": [
    {
     "name": "stdout",
     "output_type": "stream",
     "text": [
      "7\n"
     ]
    }
   ],
   "source": [
    "suma = lambda a,b: a+b\n",
    "print(suma(2,5))"
   ]
  },
  {
   "cell_type": "code",
   "execution_count": null,
   "metadata": {},
   "outputs": [],
   "source": [
    "# Eliminar duplicados en una lista\n",
    "# Buscar un elemento e una lista\n"
   ]
  },
  {
   "cell_type": "code",
   "execution_count": 73,
   "metadata": {},
   "outputs": [
    {
     "data": {
      "text/plain": [
       "TypeError(\"'int' object is not iterable\")"
      ]
     },
     "execution_count": 73,
     "metadata": {},
     "output_type": "execute_result"
    }
   ],
   "source": [
    "def eliminar_duplicados(lista):\n",
    "    try:\n",
    "        return list(set(lista))\n",
    "    except Exception as e:\n",
    "        return e\n",
    "\n",
    "lista = [1,2, 3, 3, 4, 4]\n",
    "\n",
    "eliminar_duplicados(4)"
   ]
  },
  {
   "cell_type": "code",
   "execution_count": 75,
   "metadata": {},
   "outputs": [
    {
     "name": "stdout",
     "output_type": "stream",
     "text": [
      "2\n"
     ]
    }
   ],
   "source": [
    "# Buscar un elemento en una lista\n",
    "def search_element(lista, item):    \n",
    "    for i in range(0, len(lista)):        \n",
    "        if item == lista[i]:            \n",
    "            return i    \n",
    "    return 'element not found'\n",
    "    \n",
    "print(search_element([1, 2, 3], 3))"
   ]
  },
  {
   "cell_type": "code",
   "execution_count": 76,
   "metadata": {},
   "outputs": [
    {
     "name": "stdout",
     "output_type": "stream",
     "text": [
      "2\n"
     ]
    }
   ],
   "source": [
    "def busqueda(lista, elemento):\n",
    "    for pos, val in enumerate(lista):\n",
    "        if val == elemento:\n",
    "            return pos\n",
    "    return False\n",
    "\n",
    "print(busqueda([1, 2, 3], 3))\n",
    "\n"
   ]
  },
  {
   "cell_type": "code",
   "execution_count": 77,
   "metadata": {},
   "outputs": [
    {
     "name": "stdout",
     "output_type": "stream",
     "text": [
      "Valor encontrado\n"
     ]
    }
   ],
   "source": [
    "def buscar_elemento(lista, elemento):\n",
    "    for item in lista:\n",
    "        if item == elemento:\n",
    "            return \"Valor encontrado\"\n",
    "        \n",
    "print(buscar_elemento([1, 2, 3], 3))\n"
   ]
  },
  {
   "cell_type": "code",
   "execution_count": 78,
   "metadata": {},
   "outputs": [
    {
     "name": "stdout",
     "output_type": "stream",
     "text": [
      "120\n"
     ]
    }
   ],
   "source": [
    "# Crear una funcion que calcule el factorial de un numero\n",
    "# sumar numeros pares desde el 1 hasta el 100\n",
    "\n",
    "def factorial(num):    \n",
    "    if num == 0: return 1    \n",
    "    fact = 1    \n",
    "    for i in range(num, 0, -1):        \n",
    "        fact = fact * i    \n",
    "    return fact\n",
    "\n",
    "print(factorial(5))\n"
   ]
  },
  {
   "cell_type": "markdown",
   "metadata": {},
   "source": [
    "5!\n",
    "5x4x3x2x1\n",
    "\n",
    "3x2!\n",
    "2x1!\n",
    "1x0!"
   ]
  },
  {
   "cell_type": "code",
   "execution_count": 79,
   "metadata": {},
   "outputs": [
    {
     "data": {
      "text/plain": [
       "120"
      ]
     },
     "execution_count": 79,
     "metadata": {},
     "output_type": "execute_result"
    }
   ],
   "source": [
    "def calcular_factorial(num):\n",
    "    if num == 0:\n",
    "        return 1\n",
    "    else: \n",
    "        return num * calcular_factorial(num-1)\n",
    "    \n",
    "# num * num-1 * num-2* .. 1\n",
    "\n",
    "calcular_factorial(5)\n",
    "\n",
    "    "
   ]
  },
  {
   "cell_type": "code",
   "execution_count": 81,
   "metadata": {},
   "outputs": [
    {
     "name": "stdout",
     "output_type": "stream",
     "text": [
      "2550\n"
     ]
    }
   ],
   "source": [
    "def suma_pares():\n",
    "    pares = [num for num in range(1, 101) if num % 2 == 0 ]\n",
    "    return sum(pares)\n",
    "\n",
    "print(suma_pares())"
   ]
  },
  {
   "cell_type": "code",
   "execution_count": 82,
   "metadata": {},
   "outputs": [
    {
     "name": "stdout",
     "output_type": "stream",
     "text": [
      "2550\n"
     ]
    }
   ],
   "source": [
    "def suma_pares():\n",
    "    suma = 0\n",
    "    for num in range(1,101):\n",
    "        if num%2 == 0:\n",
    "            suma = suma + num\n",
    "    return suma\n",
    "\n",
    "print(suma_pares())\n"
   ]
  },
  {
   "cell_type": "code",
   "execution_count": null,
   "metadata": {},
   "outputs": [],
   "source": []
  }
 ],
 "metadata": {
  "kernelspec": {
   "display_name": "Python 3",
   "language": "python",
   "name": "python3"
  },
  "language_info": {
   "codemirror_mode": {
    "name": "ipython",
    "version": 3
   },
   "file_extension": ".py",
   "mimetype": "text/x-python",
   "name": "python",
   "nbconvert_exporter": "python",
   "pygments_lexer": "ipython3",
   "version": "3.12.1"
  }
 },
 "nbformat": 4,
 "nbformat_minor": 2
}
